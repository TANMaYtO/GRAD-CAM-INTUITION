{
 "cells": [
  {
   "cell_type": "code",
   "execution_count": 1,
   "id": "46d9cac0",
   "metadata": {
    "_cell_guid": "b1076dfc-b9ad-4769-8c92-a6c4dae69d19",
    "_uuid": "8f2839f25d086af736a60e9eeb907d3b93b6e0e5",
    "execution": {
     "iopub.execute_input": "2025-08-21T14:33:51.007908Z",
     "iopub.status.busy": "2025-08-21T14:33:51.007493Z",
     "iopub.status.idle": "2025-08-21T14:33:52.870487Z",
     "shell.execute_reply": "2025-08-21T14:33:52.869592Z"
    },
    "papermill": {
     "duration": 1.869734,
     "end_time": "2025-08-21T14:33:52.872275",
     "exception": false,
     "start_time": "2025-08-21T14:33:51.002541",
     "status": "completed"
    },
    "tags": []
   },
   "outputs": [],
   "source": [
    "# This Python 3 environment comes with many helpful analytics libraries installed\n",
    "# It is defined by the kaggle/python Docker image: https://github.com/kaggle/docker-python\n",
    "# For example, here's several helpful packages to load\n",
    "\n",
    "import numpy as np # linear algebra\n",
    "import pandas as pd # data processing, CSV file I/O (e.g. pd.read_csv)\n",
    "\n",
    "# Input data files are available in the read-only \"../input/\" directory\n",
    "# For example, running this (by clicking run or pressing Shift+Enter) will list all files under the input directory\n",
    "\n",
    "import os\n",
    "for dirname, _, filenames in os.walk('/kaggle/input'):\n",
    "    for filename in filenames:\n",
    "        print(os.path.join(dirname, filename))\n",
    "\n",
    "# You can write up to 20GB to the current directory (/kaggle/working/) that gets preserved as output when you create a version using \"Save & Run All\" \n",
    "# You can also write temporary files to /kaggle/temp/, but they won't be saved outside of the current session"
   ]
  },
  {
   "cell_type": "code",
   "execution_count": 2,
   "id": "70f1dbaf",
   "metadata": {
    "execution": {
     "iopub.execute_input": "2025-08-21T14:33:52.879257Z",
     "iopub.status.busy": "2025-08-21T14:33:52.878824Z",
     "iopub.status.idle": "2025-08-21T14:33:58.104820Z",
     "shell.execute_reply": "2025-08-21T14:33:58.103871Z"
    },
    "papermill": {
     "duration": 5.231099,
     "end_time": "2025-08-21T14:33:58.106531",
     "exception": false,
     "start_time": "2025-08-21T14:33:52.875432",
     "status": "completed"
    },
    "tags": []
   },
   "outputs": [],
   "source": [
    "import torch \n",
    "import torch.nn.functional as F\n",
    "import cv2\n",
    "import matplotlib.pyplot as plt"
   ]
  },
  {
   "cell_type": "code",
   "execution_count": 3,
   "id": "cc92ce76",
   "metadata": {
    "execution": {
     "iopub.execute_input": "2025-08-21T14:33:58.113117Z",
     "iopub.status.busy": "2025-08-21T14:33:58.112666Z",
     "iopub.status.idle": "2025-08-21T14:33:58.121707Z",
     "shell.execute_reply": "2025-08-21T14:33:58.120840Z"
    },
    "papermill": {
     "duration": 0.014146,
     "end_time": "2025-08-21T14:33:58.123353",
     "exception": false,
     "start_time": "2025-08-21T14:33:58.109207",
     "status": "completed"
    },
    "tags": []
   },
   "outputs": [],
   "source": [
    "class GradCAM:\n",
    "    def __init__(self, model, target_layer):\n",
    "        self.model = model\n",
    "        self.target_layer = target_layer\n",
    "\n",
    "        #to store activations and gradients\n",
    "        self.activation = None\n",
    "        self.gradients = None\n",
    "\n",
    "        ##HOOK THE FORWARD AND BACKWARD PASSES\n",
    "        target_layer.register_forward_hook(self.save_activation)\n",
    "        target_layer.register_backward_hook(self.save_gradients)\n",
    "\n",
    "    def save_activation(self, module, input, output):\n",
    "        self.activations = output.detach()\n",
    "\n",
    "    def save_gradients(slf, module, grad_input, grad_output):\n",
    "        self.gradients = grad_output.detach()\n",
    "\n",
    "    def generate(self, input_tensor, class_idx = None):\n",
    "        \"\"\"\n",
    "        input_tensor: single image tensor [1, C, H, W]\n",
    "        class_idx: class index for which Grad-CAM is computed (default = predicted class)\n",
    "        \"\"\"\n",
    "\n",
    "        #forward pass\n",
    "        output = self.model(input_tensor)\n",
    "\n",
    "        if class_idx is None:\n",
    "            class_idx = output.argmax(dim=1).items()\n",
    "\n",
    "        ##backward pass: get gradients wrt chosen class\n",
    "        self.model.zero_grad()\n",
    "        output[:class_idx].backward()\n",
    "\n",
    "        ### Global average pool gradients -> weights\n",
    "        weights = self.gradients.mean(dim=(2, 3), keepdim=True)\n",
    "\n",
    "        ###weighted sum of activation\n",
    "        cam = (weights * self.activations).sum(dim=1, keepdim=True)\n",
    "\n",
    "        # # Apply ReLU\n",
    "        cam = F.relu(cam)\n",
    "\n",
    "        #Normalize\n",
    "        cam = cam.squeeze().cpu().numpy()\n",
    "        cam = (cam - cam.min())/ (cam.max() - cam.min())\n",
    "\n",
    "        return cam"
   ]
  },
  {
   "cell_type": "code",
   "execution_count": 4,
   "id": "0b3c5f31",
   "metadata": {
    "execution": {
     "iopub.execute_input": "2025-08-21T14:33:58.130563Z",
     "iopub.status.busy": "2025-08-21T14:33:58.129693Z",
     "iopub.status.idle": "2025-08-21T14:33:58.135669Z",
     "shell.execute_reply": "2025-08-21T14:33:58.134752Z"
    },
    "papermill": {
     "duration": 0.011343,
     "end_time": "2025-08-21T14:33:58.137356",
     "exception": false,
     "start_time": "2025-08-21T14:33:58.126013",
     "status": "completed"
    },
    "tags": []
   },
   "outputs": [],
   "source": [
    "def show_cam_on_image(img, cam, alpha=0.5):\n",
    "    \"\"\"\n",
    "    img: numpy image (H, W, 3), values in [0, 1]\n",
    "    cam: heatmap (H, W), values in [0, 1]\n",
    "    \"\"\"\n",
    "    heatmap = cv2.applyColorMap(np.uint8(255 * cam), cv2.COLORMAP_JET)\n",
    "    heatmap = cv2.cvtColor(heatmap, cv2.COLOR_BGR2RGB)\n",
    "    overlay = np.float32(heatmap) / 255\n",
    "    result = overlay * alpha + img * (1 - alpha)\n",
    "    result = np.clip(result, 0, 1)\n",
    "    plt.imshow(result)\n",
    "    plt.axis(\"off\")\n",
    "    plt.show()\n"
   ]
  },
  {
   "cell_type": "code",
   "execution_count": null,
   "id": "6f27f008",
   "metadata": {
    "papermill": {
     "duration": 0.002324,
     "end_time": "2025-08-21T14:33:58.142364",
     "exception": false,
     "start_time": "2025-08-21T14:33:58.140040",
     "status": "completed"
    },
    "tags": []
   },
   "outputs": [],
   "source": []
  },
  {
   "cell_type": "code",
   "execution_count": null,
   "id": "ca32d0e6",
   "metadata": {
    "papermill": {
     "duration": 0.002083,
     "end_time": "2025-08-21T14:33:58.146899",
     "exception": false,
     "start_time": "2025-08-21T14:33:58.144816",
     "status": "completed"
    },
    "tags": []
   },
   "outputs": [],
   "source": []
  },
  {
   "cell_type": "code",
   "execution_count": null,
   "id": "f6fa5a3a",
   "metadata": {
    "papermill": {
     "duration": 0.002161,
     "end_time": "2025-08-21T14:33:58.151363",
     "exception": false,
     "start_time": "2025-08-21T14:33:58.149202",
     "status": "completed"
    },
    "tags": []
   },
   "outputs": [],
   "source": []
  },
  {
   "cell_type": "code",
   "execution_count": null,
   "id": "53e808a3",
   "metadata": {
    "papermill": {
     "duration": 0.002012,
     "end_time": "2025-08-21T14:33:58.155649",
     "exception": false,
     "start_time": "2025-08-21T14:33:58.153637",
     "status": "completed"
    },
    "tags": []
   },
   "outputs": [],
   "source": []
  },
  {
   "cell_type": "code",
   "execution_count": null,
   "id": "92eab764",
   "metadata": {
    "papermill": {
     "duration": 0.002001,
     "end_time": "2025-08-21T14:33:58.159928",
     "exception": false,
     "start_time": "2025-08-21T14:33:58.157927",
     "status": "completed"
    },
    "tags": []
   },
   "outputs": [],
   "source": []
  },
  {
   "cell_type": "code",
   "execution_count": null,
   "id": "0280b50d",
   "metadata": {
    "papermill": {
     "duration": 0.002105,
     "end_time": "2025-08-21T14:33:58.164216",
     "exception": false,
     "start_time": "2025-08-21T14:33:58.162111",
     "status": "completed"
    },
    "tags": []
   },
   "outputs": [],
   "source": []
  },
  {
   "cell_type": "code",
   "execution_count": null,
   "id": "fac82f1c",
   "metadata": {
    "papermill": {
     "duration": 0.00198,
     "end_time": "2025-08-21T14:33:58.168389",
     "exception": false,
     "start_time": "2025-08-21T14:33:58.166409",
     "status": "completed"
    },
    "tags": []
   },
   "outputs": [],
   "source": []
  },
  {
   "cell_type": "code",
   "execution_count": null,
   "id": "af2ea450",
   "metadata": {
    "papermill": {
     "duration": 0.002005,
     "end_time": "2025-08-21T14:33:58.172585",
     "exception": false,
     "start_time": "2025-08-21T14:33:58.170580",
     "status": "completed"
    },
    "tags": []
   },
   "outputs": [],
   "source": []
  },
  {
   "cell_type": "code",
   "execution_count": null,
   "id": "9c3a71d3",
   "metadata": {
    "papermill": {
     "duration": 0.002067,
     "end_time": "2025-08-21T14:33:58.176817",
     "exception": false,
     "start_time": "2025-08-21T14:33:58.174750",
     "status": "completed"
    },
    "tags": []
   },
   "outputs": [],
   "source": []
  }
 ],
 "metadata": {
  "kaggle": {
   "accelerator": "none",
   "dataSources": [],
   "dockerImageVersionId": 31089,
   "isGpuEnabled": false,
   "isInternetEnabled": true,
   "language": "python",
   "sourceType": "notebook"
  },
  "kernelspec": {
   "display_name": "Python 3",
   "language": "python",
   "name": "python3"
  },
  "language_info": {
   "codemirror_mode": {
    "name": "ipython",
    "version": 3
   },
   "file_extension": ".py",
   "mimetype": "text/x-python",
   "name": "python",
   "nbconvert_exporter": "python",
   "pygments_lexer": "ipython3",
   "version": "3.11.13"
  },
  "papermill": {
   "default_parameters": {},
   "duration": 14.618808,
   "end_time": "2025-08-21T14:34:00.325352",
   "environment_variables": {},
   "exception": null,
   "input_path": "__notebook__.ipynb",
   "output_path": "__notebook__.ipynb",
   "parameters": {},
   "start_time": "2025-08-21T14:33:45.706544",
   "version": "2.6.0"
  }
 },
 "nbformat": 4,
 "nbformat_minor": 5
}
