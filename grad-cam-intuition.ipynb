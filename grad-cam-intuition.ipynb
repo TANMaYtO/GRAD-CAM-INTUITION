{
 "cells": [
  {
   "cell_type": "code",
   "execution_count": 1,
   "id": "7a50dd55",
   "metadata": {
    "_cell_guid": "b1076dfc-b9ad-4769-8c92-a6c4dae69d19",
    "_uuid": "8f2839f25d086af736a60e9eeb907d3b93b6e0e5",
    "execution": {
     "iopub.execute_input": "2025-08-21T14:26:06.917971Z",
     "iopub.status.busy": "2025-08-21T14:26:06.917674Z",
     "iopub.status.idle": "2025-08-21T14:26:08.849833Z",
     "shell.execute_reply": "2025-08-21T14:26:08.848562Z"
    },
    "papermill": {
     "duration": 1.938354,
     "end_time": "2025-08-21T14:26:08.851613",
     "exception": false,
     "start_time": "2025-08-21T14:26:06.913259",
     "status": "completed"
    },
    "tags": []
   },
   "outputs": [],
   "source": [
    "# This Python 3 environment comes with many helpful analytics libraries installed\n",
    "# It is defined by the kaggle/python Docker image: https://github.com/kaggle/docker-python\n",
    "# For example, here's several helpful packages to load\n",
    "\n",
    "import numpy as np # linear algebra\n",
    "import pandas as pd # data processing, CSV file I/O (e.g. pd.read_csv)\n",
    "\n",
    "# Input data files are available in the read-only \"../input/\" directory\n",
    "# For example, running this (by clicking run or pressing Shift+Enter) will list all files under the input directory\n",
    "\n",
    "import os\n",
    "for dirname, _, filenames in os.walk('/kaggle/input'):\n",
    "    for filename in filenames:\n",
    "        print(os.path.join(dirname, filename))\n",
    "\n",
    "# You can write up to 20GB to the current directory (/kaggle/working/) that gets preserved as output when you create a version using \"Save & Run All\" \n",
    "# You can also write temporary files to /kaggle/temp/, but they won't be saved outside of the current session"
   ]
  },
  {
   "cell_type": "code",
   "execution_count": 2,
   "id": "2e5a85c0",
   "metadata": {
    "execution": {
     "iopub.execute_input": "2025-08-21T14:26:08.857876Z",
     "iopub.status.busy": "2025-08-21T14:26:08.857512Z",
     "iopub.status.idle": "2025-08-21T14:26:14.743242Z",
     "shell.execute_reply": "2025-08-21T14:26:14.741780Z"
    },
    "papermill": {
     "duration": 5.890738,
     "end_time": "2025-08-21T14:26:14.745151",
     "exception": false,
     "start_time": "2025-08-21T14:26:08.854413",
     "status": "completed"
    },
    "tags": []
   },
   "outputs": [],
   "source": [
    "import torch \n",
    "import torch.nn.functional as F\n",
    "import cv2\n",
    "import matplotlib.pyplot as plt"
   ]
  },
  {
   "cell_type": "code",
   "execution_count": 3,
   "id": "64599693",
   "metadata": {
    "execution": {
     "iopub.execute_input": "2025-08-21T14:26:14.754223Z",
     "iopub.status.busy": "2025-08-21T14:26:14.752876Z",
     "iopub.status.idle": "2025-08-21T14:26:14.761399Z",
     "shell.execute_reply": "2025-08-21T14:26:14.759811Z"
    },
    "papermill": {
     "duration": 0.015913,
     "end_time": "2025-08-21T14:26:14.763846",
     "exception": false,
     "start_time": "2025-08-21T14:26:14.747933",
     "status": "completed"
    },
    "tags": []
   },
   "outputs": [],
   "source": [
    "class GradCAM:\n",
    "    def __init__(self, model, target_layer):\n",
    "        self.model = model\n",
    "        self.target_layer = target_layer\n",
    "\n",
    "        #to store activations and gradients\n",
    "        self.activation = None\n",
    "        self.gradients = None\n",
    "\n",
    "        ##HOOK THE FORWARD AND BACKWARD PASSES\n",
    "        target_layer.register_forward_hook(self.save_activation)\n",
    "        target_layer.register_backward_hook(self.save_gradients)\n",
    "\n",
    "    def save_activation(self, module, input, output):\n",
    "        self.activations = output.detach()\n",
    "\n",
    "    def save_gradients(slf, module, grad_input, grad_output):\n",
    "        self.gradients = grad_output.detach()\n",
    "\n",
    "    def generate(self, input_tensor, class_idx = None):\n",
    "        \"\"\"\n",
    "        input_tensor: single image tensor [1, C, H, W]\n",
    "        class_idx: class index for which Grad-CAM is computed (default = predicted class)\n",
    "        \"\"\"\n",
    "\n",
    "        #forward pass\n",
    "        output = self.model(input_tensor)\n",
    "\n",
    "        if class_idx is None:\n",
    "            class_idx = output.argmax(dim=1).items()\n",
    "\n",
    "        ##backward pass: get gradients wrt chosen class\n",
    "        self.model.zero_grad()\n",
    "        "
   ]
  },
  {
   "cell_type": "code",
   "execution_count": null,
   "id": "8683085b",
   "metadata": {
    "papermill": {
     "duration": 0.002078,
     "end_time": "2025-08-21T14:26:14.768463",
     "exception": false,
     "start_time": "2025-08-21T14:26:14.766385",
     "status": "completed"
    },
    "tags": []
   },
   "outputs": [],
   "source": []
  },
  {
   "cell_type": "code",
   "execution_count": null,
   "id": "ed4cbb9d",
   "metadata": {
    "papermill": {
     "duration": 0.002411,
     "end_time": "2025-08-21T14:26:14.774409",
     "exception": false,
     "start_time": "2025-08-21T14:26:14.771998",
     "status": "completed"
    },
    "tags": []
   },
   "outputs": [],
   "source": []
  },
  {
   "cell_type": "code",
   "execution_count": null,
   "id": "a4670832",
   "metadata": {
    "papermill": {
     "duration": 0.00232,
     "end_time": "2025-08-21T14:26:14.779012",
     "exception": false,
     "start_time": "2025-08-21T14:26:14.776692",
     "status": "completed"
    },
    "tags": []
   },
   "outputs": [],
   "source": []
  },
  {
   "cell_type": "code",
   "execution_count": null,
   "id": "1ff36fff",
   "metadata": {
    "papermill": {
     "duration": 0.002623,
     "end_time": "2025-08-21T14:26:14.783939",
     "exception": false,
     "start_time": "2025-08-21T14:26:14.781316",
     "status": "completed"
    },
    "tags": []
   },
   "outputs": [],
   "source": []
  },
  {
   "cell_type": "code",
   "execution_count": null,
   "id": "739b75ab",
   "metadata": {
    "papermill": {
     "duration": 0.001877,
     "end_time": "2025-08-21T14:26:14.788044",
     "exception": false,
     "start_time": "2025-08-21T14:26:14.786167",
     "status": "completed"
    },
    "tags": []
   },
   "outputs": [],
   "source": []
  },
  {
   "cell_type": "code",
   "execution_count": null,
   "id": "ab8b526c",
   "metadata": {
    "papermill": {
     "duration": 0.002663,
     "end_time": "2025-08-21T14:26:14.793113",
     "exception": false,
     "start_time": "2025-08-21T14:26:14.790450",
     "status": "completed"
    },
    "tags": []
   },
   "outputs": [],
   "source": []
  },
  {
   "cell_type": "code",
   "execution_count": null,
   "id": "bbdd101e",
   "metadata": {
    "papermill": {
     "duration": 0.002,
     "end_time": "2025-08-21T14:26:14.797341",
     "exception": false,
     "start_time": "2025-08-21T14:26:14.795341",
     "status": "completed"
    },
    "tags": []
   },
   "outputs": [],
   "source": []
  },
  {
   "cell_type": "code",
   "execution_count": null,
   "id": "6b5a3e40",
   "metadata": {
    "papermill": {
     "duration": 0.003156,
     "end_time": "2025-08-21T14:26:14.804234",
     "exception": false,
     "start_time": "2025-08-21T14:26:14.801078",
     "status": "completed"
    },
    "tags": []
   },
   "outputs": [],
   "source": []
  },
  {
   "cell_type": "code",
   "execution_count": null,
   "id": "a03690f5",
   "metadata": {
    "papermill": {
     "duration": 0.001996,
     "end_time": "2025-08-21T14:26:14.808861",
     "exception": false,
     "start_time": "2025-08-21T14:26:14.806865",
     "status": "completed"
    },
    "tags": []
   },
   "outputs": [],
   "source": []
  },
  {
   "cell_type": "code",
   "execution_count": null,
   "id": "77b65501",
   "metadata": {
    "papermill": {
     "duration": 0.002034,
     "end_time": "2025-08-21T14:26:14.813393",
     "exception": false,
     "start_time": "2025-08-21T14:26:14.811359",
     "status": "completed"
    },
    "tags": []
   },
   "outputs": [],
   "source": []
  }
 ],
 "metadata": {
  "kaggle": {
   "accelerator": "none",
   "dataSources": [],
   "dockerImageVersionId": 31089,
   "isGpuEnabled": false,
   "isInternetEnabled": true,
   "language": "python",
   "sourceType": "notebook"
  },
  "kernelspec": {
   "display_name": "Python 3",
   "language": "python",
   "name": "python3"
  },
  "language_info": {
   "codemirror_mode": {
    "name": "ipython",
    "version": 3
   },
   "file_extension": ".py",
   "mimetype": "text/x-python",
   "name": "python",
   "nbconvert_exporter": "python",
   "pygments_lexer": "ipython3",
   "version": "3.11.13"
  },
  "papermill": {
   "default_parameters": {},
   "duration": 15.732194,
   "end_time": "2025-08-21T14:26:17.000090",
   "environment_variables": {},
   "exception": null,
   "input_path": "__notebook__.ipynb",
   "output_path": "__notebook__.ipynb",
   "parameters": {},
   "start_time": "2025-08-21T14:26:01.267896",
   "version": "2.6.0"
  }
 },
 "nbformat": 4,
 "nbformat_minor": 5
}
