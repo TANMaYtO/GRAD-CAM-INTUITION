{
 "cells": [
  {
   "cell_type": "code",
   "execution_count": 1,
   "id": "1270c801",
   "metadata": {
    "_cell_guid": "b1076dfc-b9ad-4769-8c92-a6c4dae69d19",
    "_uuid": "8f2839f25d086af736a60e9eeb907d3b93b6e0e5",
    "execution": {
     "iopub.execute_input": "2025-08-21T14:29:43.368402Z",
     "iopub.status.busy": "2025-08-21T14:29:43.367715Z",
     "iopub.status.idle": "2025-08-21T14:29:45.545628Z",
     "shell.execute_reply": "2025-08-21T14:29:45.544591Z"
    },
    "papermill": {
     "duration": 2.185142,
     "end_time": "2025-08-21T14:29:45.547626",
     "exception": false,
     "start_time": "2025-08-21T14:29:43.362484",
     "status": "completed"
    },
    "tags": []
   },
   "outputs": [],
   "source": [
    "# This Python 3 environment comes with many helpful analytics libraries installed\n",
    "# It is defined by the kaggle/python Docker image: https://github.com/kaggle/docker-python\n",
    "# For example, here's several helpful packages to load\n",
    "\n",
    "import numpy as np # linear algebra\n",
    "import pandas as pd # data processing, CSV file I/O (e.g. pd.read_csv)\n",
    "\n",
    "# Input data files are available in the read-only \"../input/\" directory\n",
    "# For example, running this (by clicking run or pressing Shift+Enter) will list all files under the input directory\n",
    "\n",
    "import os\n",
    "for dirname, _, filenames in os.walk('/kaggle/input'):\n",
    "    for filename in filenames:\n",
    "        print(os.path.join(dirname, filename))\n",
    "\n",
    "# You can write up to 20GB to the current directory (/kaggle/working/) that gets preserved as output when you create a version using \"Save & Run All\" \n",
    "# You can also write temporary files to /kaggle/temp/, but they won't be saved outside of the current session"
   ]
  },
  {
   "cell_type": "code",
   "execution_count": 2,
   "id": "1a91cf8e",
   "metadata": {
    "execution": {
     "iopub.execute_input": "2025-08-21T14:29:45.555727Z",
     "iopub.status.busy": "2025-08-21T14:29:45.555265Z",
     "iopub.status.idle": "2025-08-21T14:29:51.532566Z",
     "shell.execute_reply": "2025-08-21T14:29:51.530753Z"
    },
    "papermill": {
     "duration": 5.983456,
     "end_time": "2025-08-21T14:29:51.534898",
     "exception": false,
     "start_time": "2025-08-21T14:29:45.551442",
     "status": "completed"
    },
    "tags": []
   },
   "outputs": [],
   "source": [
    "import torch \n",
    "import torch.nn.functional as F\n",
    "import cv2\n",
    "import matplotlib.pyplot as plt"
   ]
  },
  {
   "cell_type": "code",
   "execution_count": 3,
   "id": "500a8dc7",
   "metadata": {
    "execution": {
     "iopub.execute_input": "2025-08-21T14:29:51.542968Z",
     "iopub.status.busy": "2025-08-21T14:29:51.542397Z",
     "iopub.status.idle": "2025-08-21T14:29:51.554011Z",
     "shell.execute_reply": "2025-08-21T14:29:51.552851Z"
    },
    "papermill": {
     "duration": 0.017867,
     "end_time": "2025-08-21T14:29:51.556211",
     "exception": false,
     "start_time": "2025-08-21T14:29:51.538344",
     "status": "completed"
    },
    "tags": []
   },
   "outputs": [],
   "source": [
    "class GradCAM:\n",
    "    def __init__(self, model, target_layer):\n",
    "        self.model = model\n",
    "        self.target_layer = target_layer\n",
    "\n",
    "        #to store activations and gradients\n",
    "        self.activation = None\n",
    "        self.gradients = None\n",
    "\n",
    "        ##HOOK THE FORWARD AND BACKWARD PASSES\n",
    "        target_layer.register_forward_hook(self.save_activation)\n",
    "        target_layer.register_backward_hook(self.save_gradients)\n",
    "\n",
    "    def save_activation(self, module, input, output):\n",
    "        self.activations = output.detach()\n",
    "\n",
    "    def save_gradients(slf, module, grad_input, grad_output):\n",
    "        self.gradients = grad_output.detach()\n",
    "\n",
    "    def generate(self, input_tensor, class_idx = None):\n",
    "        \"\"\"\n",
    "        input_tensor: single image tensor [1, C, H, W]\n",
    "        class_idx: class index for which Grad-CAM is computed (default = predicted class)\n",
    "        \"\"\"\n",
    "\n",
    "        #forward pass\n",
    "        output = self.model(input_tensor)\n",
    "\n",
    "        if class_idx is None:\n",
    "            class_idx = output.argmax(dim=1).items()\n",
    "\n",
    "        ##backward pass: get gradients wrt chosen class\n",
    "        self.model.zero_grad()\n",
    "        output[:class_idx].backward()\n",
    "\n",
    "        ### Global average pool gradients -> weights\n",
    "        weights = self.gradients.mean(dim=(2, 3), keepdim=True)\n",
    "\n",
    "        ###weighted sum of activation\n",
    "        cam = (weights * self.activations).sum(dim=1, keepdim=True)\n",
    "\n",
    "        # # Apply ReLU\n",
    "        cam = F.relu(cam)\n",
    "\n",
    "        #Normalize\n",
    "        cam = cam.squeeze().cpu().numpy()\n",
    "        cam = (cam - cam.min())/ (cam.max() - cam.min())\n",
    "\n",
    "        return cam"
   ]
  },
  {
   "cell_type": "code",
   "execution_count": null,
   "id": "a701f30e",
   "metadata": {
    "papermill": {
     "duration": 0.003325,
     "end_time": "2025-08-21T14:29:51.563157",
     "exception": false,
     "start_time": "2025-08-21T14:29:51.559832",
     "status": "completed"
    },
    "tags": []
   },
   "outputs": [],
   "source": []
  },
  {
   "cell_type": "code",
   "execution_count": null,
   "id": "1c9793f7",
   "metadata": {
    "papermill": {
     "duration": 0.002465,
     "end_time": "2025-08-21T14:29:51.568671",
     "exception": false,
     "start_time": "2025-08-21T14:29:51.566206",
     "status": "completed"
    },
    "tags": []
   },
   "outputs": [],
   "source": []
  },
  {
   "cell_type": "code",
   "execution_count": null,
   "id": "bea8f9ce",
   "metadata": {
    "papermill": {
     "duration": 0.0027,
     "end_time": "2025-08-21T14:29:51.575423",
     "exception": false,
     "start_time": "2025-08-21T14:29:51.572723",
     "status": "completed"
    },
    "tags": []
   },
   "outputs": [],
   "source": []
  },
  {
   "cell_type": "code",
   "execution_count": null,
   "id": "09c958bb",
   "metadata": {
    "papermill": {
     "duration": 0.003141,
     "end_time": "2025-08-21T14:29:51.581407",
     "exception": false,
     "start_time": "2025-08-21T14:29:51.578266",
     "status": "completed"
    },
    "tags": []
   },
   "outputs": [],
   "source": []
  },
  {
   "cell_type": "code",
   "execution_count": null,
   "id": "bf13db24",
   "metadata": {
    "papermill": {
     "duration": 0.002603,
     "end_time": "2025-08-21T14:29:51.586912",
     "exception": false,
     "start_time": "2025-08-21T14:29:51.584309",
     "status": "completed"
    },
    "tags": []
   },
   "outputs": [],
   "source": []
  },
  {
   "cell_type": "code",
   "execution_count": null,
   "id": "11debbe8",
   "metadata": {
    "papermill": {
     "duration": 0.004006,
     "end_time": "2025-08-21T14:29:51.593983",
     "exception": false,
     "start_time": "2025-08-21T14:29:51.589977",
     "status": "completed"
    },
    "tags": []
   },
   "outputs": [],
   "source": []
  },
  {
   "cell_type": "code",
   "execution_count": null,
   "id": "36024f9b",
   "metadata": {
    "papermill": {
     "duration": 0.005777,
     "end_time": "2025-08-21T14:29:51.603853",
     "exception": false,
     "start_time": "2025-08-21T14:29:51.598076",
     "status": "completed"
    },
    "tags": []
   },
   "outputs": [],
   "source": []
  },
  {
   "cell_type": "code",
   "execution_count": null,
   "id": "ab5e0150",
   "metadata": {
    "papermill": {
     "duration": 0.002318,
     "end_time": "2025-08-21T14:29:51.609144",
     "exception": false,
     "start_time": "2025-08-21T14:29:51.606826",
     "status": "completed"
    },
    "tags": []
   },
   "outputs": [],
   "source": []
  },
  {
   "cell_type": "code",
   "execution_count": null,
   "id": "1eba1f37",
   "metadata": {
    "papermill": {
     "duration": 0.002262,
     "end_time": "2025-08-21T14:29:51.613999",
     "exception": false,
     "start_time": "2025-08-21T14:29:51.611737",
     "status": "completed"
    },
    "tags": []
   },
   "outputs": [],
   "source": []
  },
  {
   "cell_type": "code",
   "execution_count": null,
   "id": "ce43df9d",
   "metadata": {
    "papermill": {
     "duration": 0.003043,
     "end_time": "2025-08-21T14:29:51.622625",
     "exception": false,
     "start_time": "2025-08-21T14:29:51.619582",
     "status": "completed"
    },
    "tags": []
   },
   "outputs": [],
   "source": []
  }
 ],
 "metadata": {
  "kaggle": {
   "accelerator": "none",
   "dataSources": [],
   "dockerImageVersionId": 31089,
   "isGpuEnabled": false,
   "isInternetEnabled": true,
   "language": "python",
   "sourceType": "notebook"
  },
  "kernelspec": {
   "display_name": "Python 3",
   "language": "python",
   "name": "python3"
  },
  "language_info": {
   "codemirror_mode": {
    "name": "ipython",
    "version": 3
   },
   "file_extension": ".py",
   "mimetype": "text/x-python",
   "name": "python",
   "nbconvert_exporter": "python",
   "pygments_lexer": "ipython3",
   "version": "3.11.13"
  },
  "papermill": {
   "default_parameters": {},
   "duration": 17.036726,
   "end_time": "2025-08-21T14:29:53.979582",
   "environment_variables": {},
   "exception": null,
   "input_path": "__notebook__.ipynb",
   "output_path": "__notebook__.ipynb",
   "parameters": {},
   "start_time": "2025-08-21T14:29:36.942856",
   "version": "2.6.0"
  }
 },
 "nbformat": 4,
 "nbformat_minor": 5
}
